{
  "nbformat": 4,
  "nbformat_minor": 0,
  "metadata": {
    "colab": {
      "name": "markdown.ipynb",
      "provenance": []
    },
    "kernelspec": {
      "name": "python3",
      "display_name": "Python 3"
    },
    "language_info": {
      "name": "python"
    }
  },
  "cells": [
    {
      "cell_type": "markdown",
      "source": [
        "# `Markdown`\n",
        "\n",
        "Como vimos anteriormente, `Markdown` é a principal forma de se agregar valor a um *notebook*. Nesta seção veremos com detalhes como utilizar Markdown em *notebooks* Jupyter. `Markdown`, no entanto, tem diversas aplicações além de criar notebooks - por exemplo, páginas iniciais de repositórios Github são criados em `.md` (a extensão de `Markdown`). Este livro é outro exemplo, já que foi criado com um misto de *notebooks* Jupyter (`.ipynb`) e Markdown (`.md`).\n",
        "\n",
        "<div class=\"admonition note\" name=\"html-admonition\">\n",
        "<p class=\"title\">Nota</p>\n",
        "`Markdown` é uma linguagem de marcação (*markup language*) leve que adiciona elementos de formatação a textos.  Além disto, `Markdown` permite de forma simples o acréscimo de elementos visuais ao texto (figuras, tabelas, vídeos, etc.).\n",
        "</div>\n",
        "\n",
        "Com certeza você tem contato diário com linguagens de marcação - mesmo sem saber. A maioria das páginas de internet é construída com `HTML` (*hypertext markup language*). Vamos comparar `HTML` com Markdown para a criação de um parágrafo simples:\n",
        "\n",
        "\n",
        "```{html}\n",
        "   <h1>Título</h1>\n",
        "    <p>\n",
        "      <a href=\"https://fellipemartins.github.io/python_nao_programadores/intro.html\">Neste link</a> você encontra a página inicial deste livro.\n",
        "    </p>\n",
        "\n",
        "```\n",
        "\n",
        "Este bloco de código cria um título (o texto entre os marcadores `<h1>` e `</h1>`), um parágrafo (de `<p>` a `</p>`) e um link (`<a href=\"....\">` a `</a>`)\n",
        "\n",
        "Agora, vamos fazer o mesmo em `Markdown`:\n",
        "\n",
        "```{markdown}\n",
        "# Título\n",
        "\n",
        "[Neste link](https://fellipemartins.github.io/python_nao_programadores/intro.html) você encontra a página inicial deste livro.\n",
        "```\n",
        "\n",
        "Como você pôde observar, `Markdown` tem o propósito de facilitar o desenvolvimento de formatação e adição de elementos em uma página de forma mais simples. O motivo para compararmos com `HTML` é que, na verdade, `Markdown` é um superconjunto de `HTML`. Veja a figura abaixo:\n",
        "\n",
        "```{figure} ./img/markdown.png\n",
        "---\n",
        "width: 800px\n",
        "name: markdown\n",
        "---\n",
        "Funcionamento do Markdown (simplificado) - Adaptado de [markdownguide.org](https://www.markdownguide.org/getting-started/)\n",
        "```\n",
        "\n",
        "De forma simples, a formatação em `Markdown` é levada a um aplicativo que converte a formatação para `HTML`, cujo resultado final é mostrado. Assim, com `Markdown` é possível desviar de ter que criar códigos com todo o detalhamento requerido pelos protocolos `HTML`. Por outro lado, `Markdown` é limitado e, em muitas siutações, você terá que utilizar `HTML` padrão para obter os resultados desejados.\n",
        "\n",
        "\n",
        "<div class=\"admonition seealso\" name=\"html-seealso\">\n",
        "<p class=\"title\">Veja também</p>\n",
        "Para ver mais usos e aplicações de `Markdown`, [esta página](https://www.markdownguide.org/getting-started/) contém muitas informações úteis.\n",
        "</div>\n",
        "\n",
        "<div class=\"admonition tip\" name=\"html-tip\">\n",
        "<p class=\"title\">Dica</p>\n",
        "Para usar `Markdown` em uma célula em um *notebook* Jupyter, basta clicar na célula e usar mudar no menu de `Code` para `Markdown`. Alternativamente, você pode navegar até a célula desejada usando `esc` e setas e apertar `M`. Na seção ***Notebooks** **Jupyter**, você encontra mais atalhos úteis.\n",
        "</div>"
      ],
      "metadata": {
        "id": "FPb6Xjpjqyes"
      }
    },
    {
      "cell_type": "markdown",
      "source": [
        "## Criando títulos\n",
        "\n",
        "Para adicionar títulos a uma célula, você utilizará o marcador asterisco ( `*`), equivalente ao `h` em `HTML`. \n",
        "\n",
        "<div class=\"admonition tip\" name=\"html-tip\">\n",
        "<p class=\"title\">Dica</p>\n",
        "A lógica de tamanho dos títulos é do maior para o menor, tanto em `Markdown` quanto `HTML`. A diferença é que em `Markdown` para cada nível menor, você acrescenta um asterisco (`*` = `h1`, `**` = `h2`, etc.).\n",
        "</div>\n",
        "\n",
        "```{markdown}\n",
        "# Equivale a `<H1>`\n",
        "## Equivale a `<H2>`\n",
        "### e assim segue...\n",
        "```"
      ],
      "metadata": {
        "id": "UhIbN98x1u75"
      }
    },
    {
      "cell_type": "markdown",
      "source": [
        "## Criando listas\n",
        "\n",
        "Para criar listas, você pode usar os marcadores `*` e `-`. \n",
        "\n",
        "<div class=\"admonition attention\" name=\"html-attention\">\n",
        "<p class=\"title\">Atenção</p>\n",
        "Para criar listas, deve haver um espaço em branco entre o marcador (`*`/`-`) e a palavra seguinte. No caso do marcador `*`, quando diretamente ligado à palavra seguinte, impõe formatação *itálica* à palavra (veja mais adiante em **Formatando texto**).\n",
        "</div>\n",
        "\n",
        "```{markdown}\n",
        "* Carne\n",
        "* Queijo\n",
        "* Calabresa\n",
        "```\n",
        "\n",
        "Para criar subníveis em uma lista, use espaçamento (`tab`):\n",
        "\n",
        "```{markdown}\n",
        "* Esfirras:\n",
        "  * Carne\n",
        "  * Queijo\n",
        "  * Calabresa\n",
        "```\n",
        "\n",
        "Resultado:\n",
        "\n",
        "* Esfirras:\n",
        "  * Carne\n",
        "  * Queijo\n",
        "  * Calabresa\n",
        "    * pura\n",
        "    * com queijo\n",
        "\n",
        "Perceba que a formatação de níveis é feita de forma automática.\n"
      ],
      "metadata": {
        "id": "l8ErjEZD29bl"
      }
    },
    {
      "cell_type": "markdown",
      "source": [
        "## Criando links - **REVER HTML**\n",
        "\n",
        "Um *link* é uma ligação entre a um local (uma página ou parte de uma página) e outro (outra página ou outra parte de uma página, por exemplo). Por este motivo, um link precisa ter uma *âncora* (onde clicar) e uma *referência de hipertexto* (o alvo onde você quer chegar). Por este motivo, um link em `HTML` se escreve da seguinte maneira:\n",
        "\n",
        "\n",
        "```{html}\n",
        "Ao clicar em <a href=\"www.google.com\">Google</a>, você irá para o site do Google.\n",
        "```\n",
        "\n",
        "### Resultado: \n",
        "Ao clicar em <a href=\"www.google.com\">Google</a>, você irá para o site do Google.\n",
        "\n",
        "Neste caso, a *âncora* ( `<a>` ... `</a>`) indica qual parte do texto será clicável. A *referência* (`href=\"...\"`) indica o endereço aonde você quer chegar.\n",
        "\n",
        "Em `Markdown` este processo é simplificado em que a *âncora* (texto clicável) é um par de colchetes `[...]` ligado a um par de parênteses (`(...)`) que faz a referência (endereço):\n",
        "\n",
        "```{markdown}\n",
        "Ao clicar em [Google](www.google.com), você irá para o site do Google.\n",
        "```\n",
        "\n",
        "### Resultado: \n",
        "Ao clicar em [Google](http://www.google.com), você irá para o site do Google.\n",
        "\n",
        "Apesar de ser mais simples fazer links em `Markdown` que em `HTML`, há situações em que pode ser importante saber como fazer links em `HTML`. Um exemplo é criar um link que seja aberto numa nova aba / página separada. Veja que adicionamos um marcador `target=\"...\"` à âncora `<a>`:\n",
        "\n",
        "```{html}\n",
        "Ao clicar em <a href=\"http://www.google.com\" target=\"_blank\">Google</a>, você irá para o site do Google.\n",
        "```\n",
        "\n",
        "### Resultado:\n",
        "Ao clicar em <a href=\"google.com\" target=\"_blank\">Google</a>, você irá para o site do Google.\n"
      ],
      "metadata": {
        "id": "MlQ9Wi-s4b5I"
      }
    },
    {
      "cell_type": "markdown",
      "source": [
        "# Para saber mais\n",
        "\n"
      ],
      "metadata": {
        "id": "XauC9p5q4PYv"
      }
    }
  ]
}