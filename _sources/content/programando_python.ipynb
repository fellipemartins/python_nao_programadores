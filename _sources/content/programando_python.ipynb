{
 "cells": [
  {
   "cell_type": "markdown",
   "id": "4087b4a5-c466-44e0-9292-fdbba45cbd34",
   "metadata": {},
   "source": [
    "# Programando em Python\n",
    "\n",
    "\n",
    "Programando em Python\n",
    "\n",
    "\n",
    "\n",
    "\n",
    "## Aqui\n",
    "\n",
    "\n",
    "Aqui tem texto texto texto"
   ]
  },
  {
   "cell_type": "markdown",
   "id": "15b2ccb0-2218-41a3-9f73-98843fc6b4da",
   "metadata": {},
   "source": [
    "## Maix texto\n",
    "\n",
    "\n",
    "asdasd \n",
    "\n",
    "asdasd\n",
    "\n",
    "\n",
    "asd\n",
    "\n",
    "\n",
    "asd"
   ]
  },
  {
   "cell_type": "markdown",
   "id": "65ad4af8-ab3d-4051-8a8c-9a0a29f8a7a5",
   "metadata": {},
   "source": [
    "## MAis xteto\n",
    "\n",
    "asdfasfas\n",
    "\n",
    "\n",
    "asfasf"
   ]
  },
  {
   "cell_type": "markdown",
   "id": "aa623818-6d88-4997-bfce-8e89c0d9ff4d",
   "metadata": {},
   "source": [
    "# TExtão\n",
    "\n",
    "\n",
    "asd \n",
    "\n",
    "\n",
    "asd"
   ]
  }
 ],
 "metadata": {
  "kernelspec": {
   "display_name": "Python 3 (ipykernel)",
   "language": "python",
   "name": "python3"
  },
  "language_info": {
   "codemirror_mode": {
    "name": "ipython",
    "version": 3
   },
   "file_extension": ".py",
   "mimetype": "text/x-python",
   "name": "python",
   "nbconvert_exporter": "python",
   "pygments_lexer": "ipython3",
   "version": "3.8.12"
  }
 },
 "nbformat": 4,
 "nbformat_minor": 5
}
